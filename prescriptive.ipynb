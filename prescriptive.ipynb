{
  "nbformat": 4,
  "nbformat_minor": 0,
  "metadata": {
    "colab": {
      "provenance": [],
      "authorship_tag": "ABX9TyNbBp0CMAV8rT13/cOHZKMe",
      "include_colab_link": true
    },
    "kernelspec": {
      "name": "python3",
      "display_name": "Python 3"
    },
    "language_info": {
      "name": "python"
    }
  },
  "cells": [
    {
      "cell_type": "markdown",
      "metadata": {
        "id": "view-in-github",
        "colab_type": "text"
      },
      "source": [
        "<a href=\"https://colab.research.google.com/github/Nkusi-Richard/COLAB-PROJECTS/blob/main/prescriptive.ipynb\" target=\"_parent\"><img src=\"https://colab.research.google.com/assets/colab-badge.svg\" alt=\"Open In Colab\"/></a>"
      ]
    },
    {
      "cell_type": "markdown",
      "source": [
        "# VAM IMPLEMENTATION"
      ],
      "metadata": {
        "id": "MGQjZy5NXxuU"
      }
    },
    {
      "cell_type": "code",
      "execution_count": null,
      "metadata": {
        "id": "JSs6sQsoXfPV"
      },
      "outputs": [],
      "source": [
        "import numpy as np\n",
        "\n",
        "# This function calculates the penalty of not allocating to the minimum cell in a given row or column.\n",
        "# The penalty is defined as the difference between the smallest and the next smallest value in the row or column.\n",
        "def calculate_penalty(array, allocated):\n",
        "    # Find the indices of the unallocated cells in the given row/column.\n",
        "    available = list()\n",
        "    for idx, val in enumerate(array):\n",
        "      if not allocated[idx]:\n",
        "        available.append(idx)\n",
        "\n",
        "\n",
        "    # Find the two smallest values among the unallocated cells.\n",
        "\n",
        "    unallocated_cells = list()\n",
        "\n",
        "    for idx in available:\n",
        "      unallocated_cells.append(array[idx])\n",
        "\n",
        "    # Sorting the costs\n",
        "    sorted_vals = sorted(unallocated_cells)\n",
        "\n",
        "    # If there's only one or no unallocated cell, return 0.\n",
        "    if len(available) < 2:\n",
        "        return 0\n",
        "    # Return the difference between the two smallest values as the penalty.\n",
        "    return sorted_vals[1] - sorted_vals[0]\n",
        "\n",
        "def vogels_approximation_method(costs, supply, demand):\n",
        "    # Create a matrix to keep track of allocated amounts from suppliers to demand locations.\n",
        "    allocated = np.zeros_like(costs)\n",
        "\n",
        "    # Create boolean arrays to mark which rows (suppliers) and columns (demand locations) have been fully allocated.\n",
        "    row_allocated = np.zeros(costs.shape[0], dtype=bool)\n",
        "    col_allocated = np.zeros(costs.shape[1], dtype=bool)\n",
        "\n",
        "    # Keep allocating until all supply or demand is met.\n",
        "    while np.any(supply > 0) and np.any(demand > 0):\n",
        "        # Calculate row penalties for each row that hasn't been fully allocated.\n",
        "        row_penalties = list()\n",
        "\n",
        "        for i in range(costs.shape[0]):\n",
        "          if not row_allocated[i]:\n",
        "            row_penalties.append(calculate_penalty(costs[i], col_allocated))\n",
        "          else:\n",
        "            row_penalties.append(float('-inf'))\n",
        "\n",
        "\n",
        "        # Calculate column penalties for each column that hasn't been fully allocated.\n",
        "        col_penalties = list()\n",
        "\n",
        "        for j in range(costs.shape[1]):\n",
        "          if not col_allocated[j]:\n",
        "            col_penalties.append(calculate_penalty(costs[:, j], row_allocated))\n",
        "          else:\n",
        "            col_penalties.append(float('-inf'))\n",
        "\n",
        "\n",
        "        # Find the maximum penalty among all rows and columns.\n",
        "        max_row_penalty = max(row_penalties)\n",
        "        max_col_penalty = max(col_penalties)\n",
        "\n",
        "        # If the maximum row penalty is greater than the maximum column penalty, allocate to the cell in the row with the smallest cost.\n",
        "        # Otherwise, allocate to the cell in the column with the smallest cost.\n",
        "        if max_row_penalty > max_col_penalty:\n",
        "            i = row_penalties.index(max_row_penalty)\n",
        "            row_cells = list()\n",
        "            for x in range(costs.shape[1]):\n",
        "              if not col_allocated[x]:\n",
        "                row_cells.append(costs[i, x])\n",
        "              else:\n",
        "                row_cells.append(float('inf'))\n",
        "            j = np.argmin(row_cells)\n",
        "\n",
        "\n",
        "        else:\n",
        "            j = col_penalties.index(max_col_penalty)\n",
        "            col_cells = list()\n",
        "            for x in range(costs.shape[0]):\n",
        "              if not row_allocated[x]:\n",
        "                col_cells.append(costs[x, j])\n",
        "              else:\n",
        "                col_cells.append(float('inf'))\n",
        "            i = np.argmin(col_cells)\n",
        "\n",
        "\n",
        "        # Allocate the smaller of the supply or demand to the chosen cell.\n",
        "        min_val = min(supply[i], demand[j])\n",
        "        allocated[i][j] += min_val\n",
        "        supply[i] -= min_val\n",
        "        demand[j] -= min_val\n",
        "\n",
        "        # If supply or demand is fully met, mark the row or column as allocated.\n",
        "        if supply[i] == 0:\n",
        "            row_allocated[i] = True\n",
        "        if demand[j] == 0:\n",
        "            col_allocated[j] = True\n",
        "\n",
        "    # Return the allocation matrix.\n",
        "    return allocated\n",
        "\n"
      ]
    },
    {
      "cell_type": "markdown",
      "source": [
        "# 100% PLANT CAPACITY"
      ],
      "metadata": {
        "id": "v_Lx9w4HX0dy"
      }
    },
    {
      "cell_type": "code",
      "source": [
        "# The 'costs' matrix represents the cost of shipping goods from each supplier to each demand location.\n",
        "costs = np.array([\n",
        "    [92.63, 104.03, 145.95, 112.43, 107.80, 112.19],\n",
        "    [160.20, 93.25, 148.88, 113.61, 103.45, 111.85],\n",
        "    [186.70, 122.31, 112.31, 135.98, 127.76, 133.35],\n",
        "    [127.34, 84.84, 122.51, 73.34, 87.84, 91.04],\n",
        "    [152.64, 95.15, 144.73, 107.62, 89.15, 107.00],\n",
        "    [252.78, 162.24, 236.36, 177.62, 168.96, 149.24]\n",
        "])\n",
        "\n",
        "# The 'supply' array contains the amount of goods that each supplier can provide.\n",
        "supply_100_capacity = np.array([22.0, 3.70, 4.50, 47.0, 18.50, 5.0])\n",
        "\n",
        "# The 'demand' array contains the demand for goods at each location.\n",
        "demand = np.array([3.0, 2.6, 16.0, 20.0, 26.40, 11.90])\n",
        "\n",
        "allocation_100_capacity = vogels_approximation_method(costs, supply_100_capacity, demand)\n",
        "\n",
        "total_cost_100_capacity = np.sum(allocation_100_capacity * costs) / 100;\n",
        "\n",
        "\n",
        "print(f\"Allocation matrix:\\n{allocation_100_capacity}\")\n",
        "print(f\"Total cost: ${total_cost_100_capacity:.2f}\")\n",
        "money_saved_by_our_plan = 78.44 - total_cost_100_capacity\n",
        "print(f\"The difference between AE Team's Plan and Our Plan: ${money_saved_by_our_plan:.2f}\")"
      ],
      "metadata": {
        "colab": {
          "base_uri": "https://localhost:8080/"
        },
        "id": "-hay68pkXw2u",
        "outputId": "abcc2c78-e299-4153-f598-4315ce752e0a"
      },
      "execution_count": null,
      "outputs": [
        {
          "output_type": "stream",
          "name": "stdout",
          "text": [
            "Allocation matrix:\n",
            "[[ 3.   0.   0.   0.   3.2  0. ]\n",
            " [ 0.   2.6  0.   0.   1.1  0. ]\n",
            " [ 0.   0.   4.5  0.   0.   0. ]\n",
            " [ 0.   0.  11.5 20.   3.6 11.9]\n",
            " [ 0.   0.   0.   0.  18.5  0. ]\n",
            " [ 0.   0.   0.   0.   0.   0. ]]\n",
            "Total cost: $74.09\n",
            "The difference between AE Team's Plan and Our Plan: $4.35\n"
          ]
        }
      ]
    },
    {
      "cell_type": "markdown",
      "source": [
        "# 85% PLANT'S CAPACITY, ALLOCATION PLAN AND COST"
      ],
      "metadata": {
        "id": "FpW5-gkQmnfG"
      }
    },
    {
      "cell_type": "code",
      "source": [
        "# The 'supply' array contains 85% the amount of goods that each supplier can provide.\n",
        "supply_85_capacity = np.array([22.0, 3.70, 4.50, 47.0, 18.50, 5.0]) * 0.85\n",
        "# The 'demand' array contains the demand for goods at each location.\n",
        "demand = np.array([3.0, 2.6, 16.0, 20.0, 26.40, 11.90])\n",
        "\n",
        "allocation_85_capacity = vogels_approximation_method(costs, supply_85_capacity, demand)\n",
        "\n",
        "total_cost_85_capacity = np.sum(allocation_85_capacity * costs) / 100;\n",
        "\n",
        "\n",
        "print(f\"Allocation matrix:\\n{allocation_85_capacity}\")\n",
        "print(f\"Total cost: ${total_cost_85_capacity:.2f}\")\n",
        "extra_money_used = 78.44 - total_cost_85_capacity\n",
        "print(f\"Extra Money spent by using 85% of Plant Capacity compared to AE Team's plan (In millions): ${abs(extra_money_used):.2f}\")"
      ],
      "metadata": {
        "colab": {
          "base_uri": "https://localhost:8080/"
        },
        "id": "glIz8baAm4fZ",
        "outputId": "1623976a-3700-461a-dfd6-51759e1e9489"
      },
      "execution_count": null,
      "outputs": [
        {
          "output_type": "stream",
          "name": "stdout",
          "text": [
            "Allocation matrix:\n",
            "[[ 3.     0.     4.125  0.     5.88   0.   ]\n",
            " [ 0.     2.6    0.     0.     0.545  0.   ]\n",
            " [ 0.     0.     3.825  0.     0.     0.   ]\n",
            " [ 0.     0.     8.05  20.     0.    11.9  ]\n",
            " [ 0.     0.     0.     0.    15.725  0.   ]\n",
            " [ 0.     0.     0.     0.     4.25   0.   ]]\n",
            "Total cost: $78.99\n",
            "Extra Money spent by using 85% of Plant Capacity compared to AE Team's plan (In millions): $0.55\n"
          ]
        }
      ]
    },
    {
      "cell_type": "code",
      "source": [
        "print(supply_85_capacity, demand)"
      ],
      "metadata": {
        "colab": {
          "base_uri": "https://localhost:8080/"
        },
        "id": "4XjunJ31uJab",
        "outputId": "541ee7e7-00f5-4eca-9c2f-b418ee07e8c5"
      },
      "execution_count": null,
      "outputs": [
        {
          "output_type": "stream",
          "name": "stdout",
          "text": [
            "[5.695 0.    0.    0.    0.    0.   ] [0. 0. 0. 0. 0. 0.]\n"
          ]
        }
      ]
    },
    {
      "cell_type": "markdown",
      "source": [
        "# REMOVING PRODUCTION FROM CHILE, BUT KEEP SUPPLYING SA (90% PLANT CAPACITY)"
      ],
      "metadata": {
        "id": "k7jcIr3Y70p7"
      }
    },
    {
      "cell_type": "code",
      "source": [
        "costs_without_chile = np.array([\n",
        "    [92.63, 104.03, 145.95, 112.43, 107.80, 112.19],\n",
        "    [160.20, 93.25, 148.88, 113.61, 103.45, 111.85],\n",
        "    [127.34, 84.84, 122.51, 73.34, 87.84, 91.04],\n",
        "    [152.64, 95.15, 144.73, 107.62, 89.15, 107.00],\n",
        "    [252.78, 162.24, 236.36, 177.62, 168.96, 149.24]\n",
        "])\n",
        "\n",
        "# The 'supply' array contains 90% the amount of goods that each supplier can provide.\n",
        "supply_90_capacity = np.array([22.0, 3.70, 4.50, 47.0, 18.50, 5.0]) * 0.9\n",
        "# The 'demand' array contains the demand for goods at each location.\n",
        "demand = np.array([3.0, 2.6, 16.0, 20.0, 26.40, 11.90])\n",
        "\n",
        "allocation_90_capacity = vogels_approximation_method(costs_without_chile, supply_90_capacity, demand)\n",
        "\n",
        "total_cost_90_capacity = np.sum(allocation_90_capacity * costs_without_chile) / 100;\n",
        "\n",
        "print(f\"Allocation matrix:\\n{allocation_90_capacity}\")\n",
        "print(f\"Total cost: ${total_cost_90_capacity:.2f}\")\n",
        "extra_money_used = 78.44 - total_cost_90_capacity\n",
        "print(f\"Extra Money spent by using 90% of Plant Capacity compared to AE Team's plan without chile productions (In millions): ${abs(extra_money_used):.2f}\")"
      ],
      "metadata": {
        "colab": {
          "base_uri": "https://localhost:8080/"
        },
        "id": "scseZnnB8GHF",
        "outputId": "a2b4542d-5262-420f-eb23-c77a8b5af54a"
      },
      "execution_count": null,
      "outputs": [
        {
          "output_type": "stream",
          "name": "stdout",
          "text": [
            "Allocation matrix:\n",
            "[[ 3.    0.   11.3   0.    0.    0.  ]\n",
            " [ 0.    2.6   0.    0.    0.    0.  ]\n",
            " [ 0.    0.    0.    4.05  0.    0.  ]\n",
            " [ 0.    0.    4.7  11.2  26.4   0.  ]\n",
            " [ 0.    0.    0.    4.75  0.   11.9 ]]\n",
            "Total cost: $93.25\n",
            "Extra Money spent by using 90% of Plant Capacity compared to AE Team's plan without chile productions (In millions): $14.81\n"
          ]
        }
      ]
    },
    {
      "cell_type": "markdown",
      "source": [
        "# 90% PLANT CAPACITY USING CHILE TO COMPARE TO WHEN WE DO'T USE CHILE PRODUCTIOS"
      ],
      "metadata": {
        "id": "hokIPYgK9lt2"
      }
    },
    {
      "cell_type": "code",
      "source": [
        "# The 'supply' array contains 90% the amount of goods that each supplier can provide.\n",
        "supply_90_capacity = np.array([22.0, 3.70, 4.50, 47.0, 18.50, 5.0]) * 0.9\n",
        "# The 'demand' array contains the demand for goods at each location.\n",
        "demand = np.array([3.0, 2.6, 16.0, 20.0, 26.40, 11.90])\n",
        "\n",
        "allocation_90_capacity = vogels_approximation_method(costs, supply_90_capacity, demand)\n",
        "\n",
        "total_cost_90_capacity = np.sum(allocation_90_capacity * costs) / 100;\n",
        "\n",
        "print(f\"Allocation matrix:\\n{allocation_90_capacity}\")\n",
        "print(f\"Total cost: ${total_cost_90_capacity:.2f}\")\n",
        "extra_money_used = 78.44 - total_cost_90_capacity\n",
        "print(f\"Extra Money spend by using 90% of Plant Capacity compared to AE Team's plan with chile productions (In millions): ${abs(extra_money_used):.2f}\")"
      ],
      "metadata": {
        "colab": {
          "base_uri": "https://localhost:8080/"
        },
        "id": "0K3Nhoc19lDE",
        "outputId": "f38755a9-a0cd-4270-9864-76001ee879dd"
      },
      "execution_count": null,
      "outputs": [
        {
          "output_type": "stream",
          "name": "stdout",
          "text": [
            "Allocation matrix:\n",
            "[[ 3.    0.    1.55  0.    4.52  0.  ]\n",
            " [ 0.    2.6   0.    0.    0.73  0.  ]\n",
            " [ 0.    0.    4.05  0.    0.    0.  ]\n",
            " [ 0.    0.   10.4  20.    0.   11.9 ]\n",
            " [ 0.    0.    0.    0.   16.65  0.  ]\n",
            " [ 0.    0.    0.    0.    4.5   0.  ]]\n",
            "Total cost: $78.33\n",
            "Extra Money spend by using 90% of Plant Capacity compared to AE Team's plan with chile productions (In millions): $0.11\n"
          ]
        }
      ]
    }
  ]
}